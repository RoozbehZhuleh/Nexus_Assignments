{
 "cells": [
  {
   "cell_type": "markdown",
   "id": "3ed9ae46",
   "metadata": {},
   "source": [
    "1- Fundamentals "
   ]
  },
  {
   "cell_type": "code",
   "execution_count": 5,
   "id": "225f8a6b",
   "metadata": {},
   "outputs": [
    {
     "name": "stdout",
     "output_type": "stream",
     "text": [
      "30.6°C in fahrenheit is 87.08°F\n"
     ]
    }
   ],
   "source": [
    "# Task 1 — Celsius → Fahrenheit\n",
    "# 👉 a Celsius temperature (as text), convert it to float,\n",
    "#    compute Fahrenheit (°F = °C * 9/5 + 32) and print a nicely formatted line.\n",
    "# TODO: your code here\n",
    "# celsius_input = float(input(\"enter temp: \"))\n",
    "def c_to_f(celsius_input) :\n",
    "    print(f\"{celsius_input}°C in fahrenheit is {round((celsius_input*9/5)+32, 2)}°F\")\n",
    "    \n",
    "c_to_f(30.6)"
   ]
  },
  {
   "cell_type": "code",
   "execution_count": null,
   "id": "49a95a37",
   "metadata": {},
   "outputs": [
    {
     "name": "stdout",
     "output_type": "stream",
     "text": [
      " sum: 11.0\n",
      " difference: 7.0\n",
      " product: 18.0\n",
      " true division: 4.5\n",
      " floor division: 4.0\n"
     ]
    }
   ],
   "source": [
    "# Task 2 — Tiny Calculator\n",
    "# 👉 Store two numbers of **different types** (one int, one float),\n",
    "#    then print their sum, difference, product, true division, and floor division.\n",
    "# TODO: your code here\n",
    "def calculate(float_num, int_num) :\n",
    "    print(f\" sum: {float_num+float(int_num)}\\n difference: {float_num-float(int_num)}\\n product: {float_num*float(int_num)}\\n true division: {float_num/float(int_num)}\\n floor division: {float_num//float(int_num)}\")\n",
    "    \n",
    "calculate(9, 2)"
   ]
  },
  {
   "cell_type": "code",
   "execution_count": null,
   "id": "470cbbbf",
   "metadata": {},
   "outputs": [],
   "source": [
    "2- Containers"
   ]
  },
  {
   "cell_type": "code",
   "execution_count": 1,
   "id": "71aec698",
   "metadata": {},
   "outputs": [
    {
     "name": "stdout",
     "output_type": "stream",
     "text": [
      "['apple', 'orange', 'milk', 'egg', 'corn'] corn\n",
      "milk\n"
     ]
    }
   ],
   "source": [
    "# Task 1 — Grocery Basket\n",
    "# Start with an empty shopping list (list).\n",
    "# 1. Append at least 4 items supplied in one line of user input (comma-separated).\n",
    "# 2. Convert the list to a *tuple* called immutable_basket.\n",
    "# 3. Print the third item using tuple indexing.\n",
    "# TODO: your code here\n",
    "shopping_list = []\n",
    "user_input = input('name 4 grocery items: ').split(\",\")\n",
    "for i in user_input :\n",
    "    shopping_list.append(i.strip())\n",
    "print(shopping_list, shopping_list[-1])\n",
    "immutable_basket = tuple(shopping_list)\n",
    "print(immutable_basket[2])"
   ]
  },
  {
   "cell_type": "code",
   "execution_count": 2,
   "id": "d01a1f48",
   "metadata": {},
   "outputs": [
    {
     "name": "stdout",
     "output_type": "stream",
     "text": [
      "{'not', 'or', 'question', 'that', 'the', 'be', 'to', 'is'}\n",
      "{'to': 2, 'be': 2, 'or': 1, 'not': 1, 'that': 1, 'is': 1, 'the': 1, 'question': 1}\n"
     ]
    }
   ],
   "source": [
    "# Task 2 — Word Stats\n",
    "sample = \"to be or not to be that is the question\"\n",
    "\n",
    "# 1. Build a set `unique_words` containing every distinct word.\n",
    "# 2. Build a dict `word_counts` mapping each word to the number of times it appears.\n",
    "#    (Hint: .split() + a simple loop)\n",
    "# 3. Print the two structures and explain (in a comment) their main difference.\n",
    "# TODO: your code here\n",
    "split_sample = sample.split()\n",
    "unique_words = set(split_sample)\n",
    "print(unique_words)\n",
    "\n",
    "word_counts = {}\n",
    "for word in split_sample :\n",
    "    word_counts[word] = word_counts.get(word, 0) + 1\n",
    "print (word_counts)"
   ]
  },
  {
   "cell_type": "markdown",
   "id": "d1b32848",
   "metadata": {},
   "source": [
    "3- Functions"
   ]
  },
  {
   "cell_type": "code",
   "execution_count": 13,
   "id": "0067ee06",
   "metadata": {},
   "outputs": [
    {
     "name": "stdout",
     "output_type": "stream",
     "text": [
      "[2, 3, 5, 7]\n"
     ]
    }
   ],
   "source": [
    "# Task 1 — Prime Tester\n",
    "def is_prime(n: int) -> bool:\n",
    "    \"\"\"\n",
    "    Return True if n is a prime number, else False.\n",
    "    0 and 1 are *not* prime.\n",
    "    \"\"\"\n",
    "    if n < 2:\n",
    "        return False\n",
    "    for i in range(2, int(n**0.5) + 1):\n",
    "        if n % i == 0:\n",
    "            return False\n",
    "    return True\n",
    "\n",
    "# Quick self-check\n",
    "print([x for x in range(10) if is_prime(x)])   # Expected: [2, 3, 5, 7]\n",
    "\n"
   ]
  },
  {
   "cell_type": "code",
   "execution_count": null,
   "id": "d48a53cc",
   "metadata": {},
   "outputs": [
    {
     "name": "stdout",
     "output_type": "stream",
     "text": [
      "Alice  \n",
      "Bob Bob Bob Bob Bob  \n"
     ]
    }
   ],
   "source": [
    "# Task 2 — Repeater Greeter\n",
    "def greet(name: str, times: int = 1) -> None:\n",
    "    \"\"\"Print `name`, capitalised, exactly `times` times on one line.\"\"\"\n",
    "    # TODO: your code here\n",
    "    capitalized_name = name.capitalize()\n",
    "    print(f\"{capitalized_name.ljust(len(capitalized_name)+1)*times} \")\n",
    "\n",
    "greet(\"alice\")          # Alice\n",
    "greet(\"bob\", times=3)   # Bob Bob Bob\n"
   ]
  },
  {
   "cell_type": "markdown",
   "id": "02444fa8",
   "metadata": {},
   "source": [
    "4- Classes"
   ]
  },
  {
   "cell_type": "code",
   "execution_count": 27,
   "id": "45a06334",
   "metadata": {},
   "outputs": [
    {
     "name": "stdout",
     "output_type": "stream",
     "text": [
      "5\n"
     ]
    }
   ],
   "source": [
    "# Task 1 — Simple Counter\n",
    "class Counter:\n",
    "    \"\"\"Counts how many times `increment` is called.\"\"\"\n",
    "    # TODO:\n",
    "    # 1. In __init__, store an internal count variable starting at 0.\n",
    "    # 2. Method increment(step: int = 1) adds `step` to the count.\n",
    "    # 3. Method value() returns the current count.\n",
    "    def __init__(self, count = 0) :\n",
    "        self.count = count\n",
    "    \n",
    "    def increment(self, step: int = 1) :\n",
    "        self.count = self.count + step\n",
    "\n",
    "    def value(self):\n",
    "        return self.count\n",
    "        \n",
    "c = Counter()\n",
    "for _ in range(5):\n",
    "    c.increment()\n",
    "print(c.value())   # Expected: 5\n"
   ]
  },
  {
   "cell_type": "code",
   "execution_count": 28,
   "id": "aa11c0c7",
   "metadata": {},
   "outputs": [],
   "source": [
    "# Task 2 — 2-D Point with Distance\n",
    "import math\n",
    "\n",
    "class Point:\n",
    "    \"\"\"\n",
    "    A 2-D point supporting distance calculation.\n",
    "    Usage:\n",
    "        p = Point(3, 4)\n",
    "        q = Point(0, 0)\n",
    "        print(p.distance_to(q))  # 5.0\n",
    "    \"\"\"\n",
    "    # TODO:\n",
    "    # 1. Store x and y as attributes.\n",
    "    # 2. Implement distance_to(other) using the Euclidean formula.\n",
    "    def __init__(self, x, y):\n",
    "        self.x = x\n",
    "        self.y = y\n",
    "        \n",
    "    def distance_to(self, other):\n",
    "        return (math.sqrt((self.x - other.x)**2 + (self.y - other.y)**2))\n",
    "\n",
    "# Smoke test\n",
    "p, q = Point(3, 4), Point(0, 0)\n",
    "assert round(p.distance_to(q), 1) == 5.0\n"
   ]
  }
 ],
 "metadata": {
  "kernelspec": {
   "display_name": ".venv",
   "language": "python",
   "name": "python3"
  },
  "language_info": {
   "codemirror_mode": {
    "name": "ipython",
    "version": 3
   },
   "file_extension": ".py",
   "mimetype": "text/x-python",
   "name": "python",
   "nbconvert_exporter": "python",
   "pygments_lexer": "ipython3",
   "version": "3.13.3"
  }
 },
 "nbformat": 4,
 "nbformat_minor": 5
}
