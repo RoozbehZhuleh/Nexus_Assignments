{
 "cells": [
  {
   "cell_type": "markdown",
   "id": "3ed9ae46",
   "metadata": {},
   "source": [
    "Fundamentals "
   ]
  },
  {
   "cell_type": "code",
   "execution_count": null,
   "id": "225f8a6b",
   "metadata": {
    "vscode": {
     "languageId": "plaintext"
    }
   },
   "outputs": [],
   "source": [
    "# Task 1 — Celsius → Fahrenheit\n",
    "# 👉 a Celsius temperature (as text), convert it to float,\n",
    "#    compute Fahrenheit (°F = °C * 9/5 + 32) and print a nicely formatted line.\n",
    "# TODO: your code here\n"
   ]
  },
  {
   "cell_type": "code",
   "execution_count": null,
   "id": "49a95a37",
   "metadata": {
    "vscode": {
     "languageId": "plaintext"
    }
   },
   "outputs": [],
   "source": [
    "# Task 2 — Tiny Calculator\n",
    "# 👉 Store two numbers of **different types** (one int, one float),\n",
    "#    then print their sum, difference, product, true division, and floor division.\n",
    "# TODO: your code here"
   ]
  },
  {
   "cell_type": "code",
   "execution_count": null,
   "id": "470cbbbf",
   "metadata": {
    "vscode": {
     "languageId": "plaintext"
    }
   },
   "outputs": [],
   "source": [
    "Containers"
   ]
  },
  {
   "cell_type": "code",
   "execution_count": null,
   "id": "71aec698",
   "metadata": {
    "vscode": {
     "languageId": "plaintext"
    }
   },
   "outputs": [],
   "source": [
    "# Task 1 — Grocery Basket\n",
    "# Start with an empty shopping list (list).\n",
    "# 1. Append at least 4 items supplied in one line of user input (comma-separated).\n",
    "# 2. Convert the list to a *tuple* called immutable_basket.\n",
    "# 3. Print the third item using tuple indexing.\n",
    "# TODO: your code here"
   ]
  },
  {
   "cell_type": "code",
   "execution_count": null,
   "id": "b961d9b6",
   "metadata": {
    "vscode": {
     "languageId": "plaintext"
    }
   },
   "outputs": [],
   "source": [
    "Task 2 — Word Stats"
   ]
  },
  {
   "cell_type": "code",
   "execution_count": null,
   "id": "fc2b62ca",
   "metadata": {
    "vscode": {
     "languageId": "plaintext"
    }
   },
   "outputs": [],
   "source": []
  },
  {
   "cell_type": "code",
   "execution_count": null,
   "id": "d01a1f48",
   "metadata": {
    "vscode": {
     "languageId": "plaintext"
    }
   },
   "outputs": [],
   "source": [
    "sample = \"to be or not to be that is the question\"\n",
    "\n",
    "# 1. Build a set `unique_words` containing every distinct word.\n",
    "# 2. Build a dict `word_counts` mapping each word to the number of times it appears.\n",
    "#    (Hint: .split() + a simple loop)\n",
    "# 3. Print the two structures and explain (in a comment) their main difference.\n",
    "# TODO: your code here"
   ]
  }
 ],
 "metadata": {
  "language_info": {
   "name": "python"
  }
 },
 "nbformat": 4,
 "nbformat_minor": 5
}
