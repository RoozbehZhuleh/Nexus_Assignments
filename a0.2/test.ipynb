{
 "cells": [
  {
   "cell_type": "markdown",
   "id": "2bd1ed1d",
   "metadata": {},
   "source": [
    "# 📚 Assignment 2 — NumPy, pandas & Matplotlib Essentials\n",
    "Welcome to your first data-science sprint! In this three-part mini-project you’ll touch the libraries every ML practitioner leans on daily:\n",
    "\n",
    "1. NumPy — fast n-dimensional arrays\n",
    "\n",
    "2. pandas — tabular data wrangling\n",
    "\n",
    "3. Matplotlib — quick, customizable plots\n",
    "\n",
    "Each part starts with “Quick-start notes”, then gives you two bite-sized tasks. Replace every # TODO with working Python in a notebook or script, run it, and check your results. Happy hacking! 😊\n"
   ]
  },
  {
   "cell_type": "markdown",
   "id": "8af7eaac",
   "metadata": {},
   "source": [
    "## 1 · NumPy 🧮\n",
    "Quick-start notes\n",
    "Core object: ndarray (n-dimensional array)\n",
    "\n",
    "Create data: np.array, np.arange, np.random.*\n",
    "\n",
    "Summaries: mean, std, sum, max, …\n",
    "\n",
    "Vectorised math beats Python loops for speed\n",
    "\n"
   ]
  },
  {
   "cell_type": "markdown",
   "id": "4b8c6fe1",
   "metadata": {},
   "source": [
    "### Task 1 — Mock temperatures\n",
    "\n"
   ]
  },
  {
   "cell_type": "code",
   "execution_count": null,
   "id": "09bc7d81",
   "metadata": {},
   "outputs": [],
   "source": [
    "# 👉 # TODO: import numpy and create an array of 365\n",
    "# normally-distributed °C values (µ=20, σ=5) called temps\n"
   ]
  },
  {
   "cell_type": "markdown",
   "id": "3a71b2df",
   "metadata": {},
   "source": [
    "### Task 2 — Average temperature\n"
   ]
  },
  {
   "cell_type": "code",
   "execution_count": null,
   "id": "15039d10",
   "metadata": {},
   "outputs": [],
   "source": [
    "# 👉 # TODO: print the mean of temps\n"
   ]
  },
  {
   "cell_type": "markdown",
   "id": "82948c72",
   "metadata": {},
   "source": [
    "## 2 · pandas 📊\n",
    "Quick-start notes\n",
    "Main structures: DataFrame, Series\n",
    "\n",
    "Read data: pd.read_csv, pd.read_excel, …\n",
    "\n",
    "Selection: .loc[label], .iloc[pos]\n",
    "\n",
    "Group & summarise: .groupby(...).agg(...)\n",
    "\n"
   ]
  },
  {
   "cell_type": "markdown",
   "id": "490b1b51",
   "metadata": {},
   "source": [
    "### Task 3 — Load ride log\n"
   ]
  },
  {
   "cell_type": "code",
   "execution_count": null,
   "id": "8ba8626e",
   "metadata": {},
   "outputs": [],
   "source": [
    "# 👉 # TODO: read \"rides.csv\" into df\n",
    "# (columns: date,temp,rides,weekday)\n"
   ]
  },
  {
   "cell_type": "markdown",
   "id": "dca33a81",
   "metadata": {},
   "source": [
    "### Task 4 — Weekday averages"
   ]
  },
  {
   "cell_type": "code",
   "execution_count": null,
   "id": "433ed949",
   "metadata": {},
   "outputs": [],
   "source": [
    "# 👉 # TODO: compute and print mean rides per weekday\n"
   ]
  },
  {
   "cell_type": "markdown",
   "id": "9a3f0b1a",
   "metadata": {},
   "source": [
    "## 3 · Matplotlib 📈\n",
    "Quick-start notes\n",
    "Workhorse: pyplot interface (import matplotlib.pyplot as plt)\n",
    "\n",
    "Figure & axes: fig, ax = plt.subplots()\n",
    "\n",
    "Common plots: plot, scatter, hist, imshow\n",
    "\n",
    "Display inline in Jupyter with %matplotlib inline or %matplotlib notebook"
   ]
  },
  {
   "cell_type": "markdown",
   "id": "69819e4e",
   "metadata": {},
   "source": [
    "### Task 5 — Scatter plot"
   ]
  },
  {
   "cell_type": "code",
   "execution_count": null,
   "id": "4662d849",
   "metadata": {},
   "outputs": [],
   "source": [
    "# 👉 # TODO: scatter-plot temperature (x) vs rides (y) from df\n",
    "\n"
   ]
  },
  {
   "cell_type": "markdown",
   "id": "c4e3aa7f",
   "metadata": {},
   "source": [
    "### Task 6 — Show the figure\n",
    "\n"
   ]
  },
  {
   "cell_type": "code",
   "execution_count": null,
   "id": "e84301a3",
   "metadata": {},
   "outputs": [],
   "source": [
    "# 👉 # TODO: call plt.show() so the plot appears\n",
    "\n"
   ]
  }
 ],
 "metadata": {
  "language_info": {
   "name": "python"
  }
 },
 "nbformat": 4,
 "nbformat_minor": 5
}
