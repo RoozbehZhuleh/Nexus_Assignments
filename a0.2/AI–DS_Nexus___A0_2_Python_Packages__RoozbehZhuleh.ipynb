{
 "cells": [
  {
   "cell_type": "markdown",
   "id": "2bd1ed1d",
   "metadata": {},
   "source": [
    "# 📚 Assignment 2 — NumPy, pandas & Matplotlib Essentials\n",
    "Welcome to your first data-science sprint! In this three-part mini-project you’ll touch the libraries every ML practitioner leans on daily:\n",
    "\n",
    "1. NumPy — fast n-dimensional arrays\n",
    "\n",
    "2. pandas — tabular data wrangling\n",
    "\n",
    "3. Matplotlib — quick, customizable plots\n",
    "\n",
    "Each part starts with “Quick-start notes”, then gives you two bite-sized tasks. Replace every # TODO with working Python in a notebook or script, run it, and check your results. Happy hacking! 😊\n"
   ]
  },
  {
   "cell_type": "markdown",
   "id": "8af7eaac",
   "metadata": {},
   "source": [
    "## 1 · NumPy 🧮\n",
    "Quick-start notes\n",
    "Core object: ndarray (n-dimensional array)\n",
    "\n",
    "Create data: np.array, np.arange, np.random.*\n",
    "\n",
    "Summaries: mean, std, sum, max, …\n",
    "\n",
    "Vectorised math beats Python loops for speed\n",
    "\n"
   ]
  },
  {
   "cell_type": "code",
   "execution_count": 5,
   "id": "b1521b00",
   "metadata": {},
   "outputs": [],
   "source": [
    "import numpy as np\n",
    "import pandas as pd\n",
    "import matplotlib.pyplot as plt\n"
   ]
  },
  {
   "cell_type": "markdown",
   "id": "4b8c6fe1",
   "metadata": {},
   "source": [
    "### Task 1 — Mock temperatures\n",
    "\n"
   ]
  },
  {
   "cell_type": "code",
   "execution_count": 9,
   "id": "09bc7d81",
   "metadata": {},
   "outputs": [
    {
     "data": {
      "text/plain": [
       "array([30.29410079,  7.27159082, 18.98886783, 18.85209878, 24.50405806,\n",
       "       24.90163598, 20.23007214, 19.35817284, 14.45658251, 14.82990717,\n",
       "       19.68323031, 20.71064005, 27.79740886, 22.59687543, 18.20269585,\n",
       "       18.79263229, 20.98596358, 16.75711275, 19.70072843, 17.4120816 ,\n",
       "       19.28439403,  9.86652074, 19.00482856, 12.98558301, 23.39269782,\n",
       "       19.88054996, 25.83953212, 27.21645813, 17.45201746, 23.26723492,\n",
       "       24.69321254, 16.65713499, 21.60227389, 26.3334238 , 20.9520216 ,\n",
       "       19.30854336, 30.29880534, 24.1269701 , 10.50599781, 19.1089859 ,\n",
       "       20.33141236, 11.55152747, 20.25724263, 21.69723343, 25.15161668,\n",
       "        8.39895741, 19.65044417, 21.16441348, 25.49290072, 13.63545407,\n",
       "       12.96591872, 21.06422645, 11.9114736 , 24.40602347, 19.21048559,\n",
       "       26.82255183, 26.23784571, 18.01612882, 22.06152094,  9.21163822,\n",
       "       24.61538644, 18.09912937, 23.31457224, 21.34115437, 15.3634939 ,\n",
       "       23.0671162 , 20.48831208, 15.71229768, 16.61889217, 22.96911952,\n",
       "       14.41788668, 23.32567382, 17.35911047, 19.1490572 , 23.93583356,\n",
       "       13.08436868, 22.12253287, 22.88897248, 26.40565488, 17.53516833,\n",
       "       20.69521658, 22.78386627, 22.05299732, 19.56887091, 19.309115  ,\n",
       "       16.36169986, 17.13046586, 17.97071936, 17.14478168, 18.80784371,\n",
       "       17.7000144 , 16.43597951, 14.0993616 , 34.86707811, 15.53221124,\n",
       "       20.74053283, 18.24575975, 25.69952572, 24.46407922, 25.68197519,\n",
       "        6.28475538, 19.36610369, 20.2665631 , 18.18111692, 22.52510477,\n",
       "        9.78620184, 19.30740261, 19.5624278 , 19.36988166, 18.40076136,\n",
       "       17.03037101, 17.78822889, 14.89313527, 25.70667589, 11.97211628,\n",
       "       27.11249974, 19.78939231, 24.68395009, 12.55698691, 14.1148085 ,\n",
       "       21.33269866, 17.0205426 , 23.12301197, 12.26931618, 19.01414149,\n",
       "       28.82132518, 23.56041552, 20.29081898, 21.09339947, 20.46418179,\n",
       "       22.26068383, 18.01965793, 18.2660258 , 25.50683481, 19.49379521,\n",
       "       13.36004032, 21.75126716, 23.5341821 , 13.34583075, 21.65714194,\n",
       "       24.18003432, 18.6450015 , 19.50035911, 15.52276551, 17.57880704,\n",
       "       14.53277187, 22.46745323, 29.37155939, 21.20369145,  9.56813616,\n",
       "       17.1754593 , 24.33431132, 19.92165818, 21.75329836, 18.66533785,\n",
       "       20.71429642, 18.91551092, 24.52572092, 13.88358691, 18.30302579,\n",
       "       18.21964391, 27.26622461, 23.70943966, 13.55734499, 15.64394237,\n",
       "       26.34540013, 22.30711261, 19.25667076, 18.40670235, 20.73041296,\n",
       "       25.21538899, 19.15094601, 13.44882538, 19.58982572, 21.75160051,\n",
       "       14.86873319, 18.29659237, 24.30813124, 21.55721216, 25.82147415,\n",
       "       19.84245681, 15.27547984, 13.96776313, 14.29471153, 11.51362671,\n",
       "       14.51458003, 16.92996366, 23.48795595, 19.79491236, 21.57019172,\n",
       "       12.02182891, 17.9756257 , 23.52033563, 27.53522649, 14.04559949,\n",
       "       14.05606104, 22.23621455, 22.03938196, 23.92934455, 21.41437263,\n",
       "       20.67464191, 21.05827323, 11.61089266, 19.19781762, 20.87730585,\n",
       "       19.21999615, 19.65730711, 21.08119941, 24.17590149, 14.72249643,\n",
       "       14.22500649, 18.36404477, 26.38404934, 15.62737708, 18.4854896 ,\n",
       "       18.05629639, 19.77501953, 16.24416661, 21.94427297, 20.70376172,\n",
       "       22.06427454, 24.73866335, 10.76158625, 19.13676996, 21.56805147,\n",
       "       24.18744531, 14.74973135, 29.44055722, 17.45708789, 19.48779187,\n",
       "       18.02800984, 26.68182957, 13.48562773, 10.36898588, 25.68434037,\n",
       "       18.15451578, 16.58824245, 26.19543944,  8.3413883 , 24.61420101,\n",
       "       17.08640192, 22.17398611, 20.70297409, 17.84678012, 16.32325665,\n",
       "       19.33124499, 21.99268128, 20.83485036, 18.8788654 , 31.54568222,\n",
       "       18.7636945 , 18.45500042, 16.51955418, 24.43473296, 14.57200002,\n",
       "       26.51915917, 28.17011115, 19.52987489, 24.16956809, 21.64186233,\n",
       "        8.11434093, 22.84101481, 19.98656449, 25.36443424, 20.91473041,\n",
       "       18.13362262, 20.96936328, 17.75341302, 21.76651702, 24.4422003 ,\n",
       "       22.91505206, 16.76952754, 22.23597748, 16.4908701 , 29.14638351,\n",
       "       22.8450826 , 22.83166332, 19.09833156, 23.28883488, 20.71427554,\n",
       "       17.73663524, 18.86523766, 18.51710091, 26.49043201, 11.95422525,\n",
       "       20.55629498, 25.99821424, 21.94992755, 24.83254184, 26.60456779,\n",
       "       16.57400088,  9.82644908, 13.25837035, 13.95241265, 25.96341553,\n",
       "       11.76606169, 15.69819198, 19.98978281, 10.57779708, 11.52483335,\n",
       "       13.09219311, 31.07301256, 17.82313469, 23.47328558, 24.51187393,\n",
       "       22.09432979, 19.5994361 , 19.01936508, 19.82506209, 24.4058541 ,\n",
       "       19.67874341, 17.2417975 , 19.74405886, 22.43966357, 31.70423397,\n",
       "       15.86898389, 26.49137307, 10.64666078, 20.73222906, 21.11199729,\n",
       "       17.68047961, 17.2488561 , 20.24477354, 13.29572484, 21.22900215,\n",
       "       23.37107388, 22.70952636, 24.55835341, 15.66996388, 21.49930814,\n",
       "       18.63105008, 11.06053408, 15.9868484 , 27.1339973 , 13.32512524,\n",
       "       20.21768658, 13.89357487, 20.90531643, 16.52982303, 22.63312923,\n",
       "       12.36836537, 16.34484841, 23.29808773, 26.55451687, 20.37322946,\n",
       "       19.43326342, 17.04814774, 19.97161386, 21.03931146, 15.89822306,\n",
       "       23.14411341, 36.96475376, 20.41066111, 25.83281685, 21.59622549,\n",
       "       21.83507975, 18.74956514,  8.55754066, 23.89364371, 19.25962504,\n",
       "       24.46052977, 17.60786155, 22.78834939, 15.47358229, 19.23553849])"
      ]
     },
     "execution_count": 9,
     "metadata": {},
     "output_type": "execute_result"
    }
   ],
   "source": [
    "# 👉 # TODO: import numpy and create an array of 365\n",
    "# normally-distributed °C values (µ=20, σ=5) called temps\n",
    "import numpy as np\n",
    "temps = np.random.normal(loc = 20, scale=5, size=365)\n",
    "temps"
   ]
  },
  {
   "cell_type": "markdown",
   "id": "3a71b2df",
   "metadata": {},
   "source": [
    "### Task 2 — Average temperature\n"
   ]
  },
  {
   "cell_type": "code",
   "execution_count": 11,
   "id": "15039d10",
   "metadata": {},
   "outputs": [
    {
     "name": "stdout",
     "output_type": "stream",
     "text": [
      "19.75513447041158\n"
     ]
    }
   ],
   "source": [
    "# 👉 # TODO: print the mean of temps\n",
    "print(temps.mean())"
   ]
  },
  {
   "cell_type": "markdown",
   "id": "82948c72",
   "metadata": {},
   "source": [
    "## 2 · pandas 📊\n",
    "Quick-start notes\n",
    "Main structures: DataFrame, Series\n",
    "\n",
    "Read data: pd.read_csv, pd.read_excel, …\n",
    "\n",
    "Selection: .loc[label], .iloc[pos]\n",
    "\n",
    "Group & summarise: .groupby(...).agg(...)\n",
    "\n"
   ]
  },
  {
   "cell_type": "markdown",
   "id": "490b1b51",
   "metadata": {},
   "source": [
    "### Task 3 — Load ride log\n"
   ]
  },
  {
   "cell_type": "code",
   "execution_count": 20,
   "id": "8ba8626e",
   "metadata": {},
   "outputs": [
    {
     "data": {
      "application/vnd.microsoft.datawrangler.viewer.v0+json": {
       "columns": [
        {
         "name": "index",
         "rawType": "int64",
         "type": "integer"
        },
        {
         "name": "date",
         "rawType": "object",
         "type": "string"
        },
        {
         "name": "temp",
         "rawType": "float64",
         "type": "float"
        },
        {
         "name": "rides",
         "rawType": "int64",
         "type": "integer"
        },
        {
         "name": "weekday",
         "rawType": "object",
         "type": "string"
        }
       ],
       "ref": "3197c3da-8bb1-4646-9b4a-ca08289ac478",
       "rows": [
        [
         "0",
         "2024-01-01",
         "13.3",
         "141",
         "Monday"
        ],
        [
         "1",
         "2024-01-02",
         "18.4",
         "174",
         "Tuesday"
        ],
        [
         "2",
         "2024-01-03",
         "25.3",
         "256",
         "Wednesday"
        ],
        [
         "3",
         "2024-01-04",
         "19.5",
         "188",
         "Thursday"
        ],
        [
         "4",
         "2024-01-05",
         "25.6",
         "234",
         "Friday"
        ],
        [
         "5",
         "2024-01-06",
         "24.4",
         "253",
         "Saturday"
        ],
        [
         "6",
         "2024-01-07",
         "28.6",
         "297",
         "Sunday"
        ],
        [
         "7",
         "2024-01-08",
         "21.8",
         "183",
         "Monday"
        ],
        [
         "8",
         "2024-01-09",
         "21.0",
         "213",
         "Tuesday"
        ],
        [
         "9",
         "2024-01-10",
         "20.0",
         "162",
         "Wednesday"
        ],
        [
         "10",
         "2024-01-11",
         "19.0",
         "221",
         "Thursday"
        ],
        [
         "11",
         "2024-01-12",
         "20.8",
         "188",
         "Friday"
        ],
        [
         "12",
         "2024-01-13",
         "18.6",
         "193",
         "Saturday"
        ],
        [
         "13",
         "2024-01-14",
         "19.5",
         "178",
         "Sunday"
        ],
        [
         "14",
         "2024-01-15",
         "9.4",
         "76",
         "Monday"
        ],
        [
         "15",
         "2024-01-16",
         "27.8",
         "281",
         "Tuesday"
        ],
        [
         "16",
         "2024-01-17",
         "18.6",
         "185",
         "Wednesday"
        ],
        [
         "17",
         "2024-01-18",
         "31.8",
         "299",
         "Thursday"
        ],
        [
         "18",
         "2024-01-19",
         "23.5",
         "211",
         "Friday"
        ],
        [
         "19",
         "2024-01-20",
         "12.1",
         "93",
         "Saturday"
        ],
        [
         "20",
         "2024-01-21",
         "17.2",
         "158",
         "Sunday"
        ],
        [
         "21",
         "2024-01-22",
         "23.3",
         "238",
         "Monday"
        ],
        [
         "22",
         "2024-01-23",
         "18.2",
         "188",
         "Tuesday"
        ],
        [
         "23",
         "2024-01-24",
         "33.0",
         "301",
         "Wednesday"
        ],
        [
         "24",
         "2024-01-25",
         "15.3",
         "159",
         "Thursday"
        ],
        [
         "25",
         "2024-01-26",
         "22.9",
         "251",
         "Friday"
        ],
        [
         "26",
         "2024-01-27",
         "24.9",
         "226",
         "Saturday"
        ],
        [
         "27",
         "2024-01-28",
         "28.1",
         "263",
         "Sunday"
        ],
        [
         "28",
         "2024-01-29",
         "19.7",
         "172",
         "Monday"
        ],
        [
         "29",
         "2024-01-30",
         "19.0",
         "161",
         "Tuesday"
        ],
        [
         "30",
         "2024-01-31",
         "16.6",
         "178",
         "Wednesday"
        ],
        [
         "31",
         "2024-02-01",
         "25.0",
         "235",
         "Thursday"
        ],
        [
         "32",
         "2024-02-02",
         "21.3",
         "237",
         "Friday"
        ],
        [
         "33",
         "2024-02-03",
         "13.0",
         "133",
         "Saturday"
        ],
        [
         "34",
         "2024-02-04",
         "14.8",
         "134",
         "Sunday"
        ],
        [
         "35",
         "2024-02-05",
         "22.2",
         "244",
         "Monday"
        ],
        [
         "36",
         "2024-02-06",
         "15.8",
         "137",
         "Tuesday"
        ],
        [
         "37",
         "2024-02-07",
         "12.8",
         "158",
         "Wednesday"
        ],
        [
         "38",
         "2024-02-08",
         "28.6",
         "304",
         "Thursday"
        ],
        [
         "39",
         "2024-02-09",
         "15.9",
         "150",
         "Friday"
        ],
        [
         "40",
         "2024-02-10",
         "17.9",
         "196",
         "Saturday"
        ],
        [
         "41",
         "2024-02-11",
         "14.3",
         "163",
         "Sunday"
        ],
        [
         "42",
         "2024-02-12",
         "19.7",
         "201",
         "Monday"
        ],
        [
         "43",
         "2024-02-13",
         "23.7",
         "245",
         "Tuesday"
        ],
        [
         "44",
         "2024-02-14",
         "16.6",
         "151",
         "Wednesday"
        ],
        [
         "45",
         "2024-02-15",
         "17.5",
         "190",
         "Thursday"
        ],
        [
         "46",
         "2024-02-16",
         "12.3",
         "96",
         "Friday"
        ],
        [
         "47",
         "2024-02-17",
         "19.8",
         "203",
         "Saturday"
        ],
        [
         "48",
         "2024-02-18",
         "25.7",
         "262",
         "Sunday"
        ],
        [
         "49",
         "2024-02-19",
         "9.9",
         "91",
         "Monday"
        ]
       ],
       "shape": {
        "columns": 4,
        "rows": 365
       }
      },
      "text/html": [
       "<div>\n",
       "<style scoped>\n",
       "    .dataframe tbody tr th:only-of-type {\n",
       "        vertical-align: middle;\n",
       "    }\n",
       "\n",
       "    .dataframe tbody tr th {\n",
       "        vertical-align: top;\n",
       "    }\n",
       "\n",
       "    .dataframe thead th {\n",
       "        text-align: right;\n",
       "    }\n",
       "</style>\n",
       "<table border=\"1\" class=\"dataframe\">\n",
       "  <thead>\n",
       "    <tr style=\"text-align: right;\">\n",
       "      <th></th>\n",
       "      <th>date</th>\n",
       "      <th>temp</th>\n",
       "      <th>rides</th>\n",
       "      <th>weekday</th>\n",
       "    </tr>\n",
       "  </thead>\n",
       "  <tbody>\n",
       "    <tr>\n",
       "      <th>0</th>\n",
       "      <td>2024-01-01</td>\n",
       "      <td>13.3</td>\n",
       "      <td>141</td>\n",
       "      <td>Monday</td>\n",
       "    </tr>\n",
       "    <tr>\n",
       "      <th>1</th>\n",
       "      <td>2024-01-02</td>\n",
       "      <td>18.4</td>\n",
       "      <td>174</td>\n",
       "      <td>Tuesday</td>\n",
       "    </tr>\n",
       "    <tr>\n",
       "      <th>2</th>\n",
       "      <td>2024-01-03</td>\n",
       "      <td>25.3</td>\n",
       "      <td>256</td>\n",
       "      <td>Wednesday</td>\n",
       "    </tr>\n",
       "    <tr>\n",
       "      <th>3</th>\n",
       "      <td>2024-01-04</td>\n",
       "      <td>19.5</td>\n",
       "      <td>188</td>\n",
       "      <td>Thursday</td>\n",
       "    </tr>\n",
       "    <tr>\n",
       "      <th>4</th>\n",
       "      <td>2024-01-05</td>\n",
       "      <td>25.6</td>\n",
       "      <td>234</td>\n",
       "      <td>Friday</td>\n",
       "    </tr>\n",
       "    <tr>\n",
       "      <th>...</th>\n",
       "      <td>...</td>\n",
       "      <td>...</td>\n",
       "      <td>...</td>\n",
       "      <td>...</td>\n",
       "    </tr>\n",
       "    <tr>\n",
       "      <th>360</th>\n",
       "      <td>2024-12-26</td>\n",
       "      <td>20.0</td>\n",
       "      <td>166</td>\n",
       "      <td>Thursday</td>\n",
       "    </tr>\n",
       "    <tr>\n",
       "      <th>361</th>\n",
       "      <td>2024-12-27</td>\n",
       "      <td>24.6</td>\n",
       "      <td>275</td>\n",
       "      <td>Friday</td>\n",
       "    </tr>\n",
       "    <tr>\n",
       "      <th>362</th>\n",
       "      <td>2024-12-28</td>\n",
       "      <td>16.1</td>\n",
       "      <td>171</td>\n",
       "      <td>Saturday</td>\n",
       "    </tr>\n",
       "    <tr>\n",
       "      <th>363</th>\n",
       "      <td>2024-12-29</td>\n",
       "      <td>18.3</td>\n",
       "      <td>216</td>\n",
       "      <td>Sunday</td>\n",
       "    </tr>\n",
       "    <tr>\n",
       "      <th>364</th>\n",
       "      <td>2024-12-30</td>\n",
       "      <td>20.6</td>\n",
       "      <td>213</td>\n",
       "      <td>Monday</td>\n",
       "    </tr>\n",
       "  </tbody>\n",
       "</table>\n",
       "<p>365 rows × 4 columns</p>\n",
       "</div>"
      ],
      "text/plain": [
       "           date  temp  rides    weekday\n",
       "0    2024-01-01  13.3    141     Monday\n",
       "1    2024-01-02  18.4    174    Tuesday\n",
       "2    2024-01-03  25.3    256  Wednesday\n",
       "3    2024-01-04  19.5    188   Thursday\n",
       "4    2024-01-05  25.6    234     Friday\n",
       "..          ...   ...    ...        ...\n",
       "360  2024-12-26  20.0    166   Thursday\n",
       "361  2024-12-27  24.6    275     Friday\n",
       "362  2024-12-28  16.1    171   Saturday\n",
       "363  2024-12-29  18.3    216     Sunday\n",
       "364  2024-12-30  20.6    213     Monday\n",
       "\n",
       "[365 rows x 4 columns]"
      ]
     },
     "execution_count": 20,
     "metadata": {},
     "output_type": "execute_result"
    }
   ],
   "source": [
    "# 👉 # TODO: read \"rides.csv\" into df\n",
    "# (columns: date,temp,rides,weekday)\n",
    "import pandas as pd\n",
    "df = pd.read_csv('rides.csv')\n",
    "df"
   ]
  },
  {
   "cell_type": "markdown",
   "id": "dca33a81",
   "metadata": {},
   "source": [
    "### Task 4 — Weekday averages"
   ]
  },
  {
   "cell_type": "code",
   "execution_count": 39,
   "id": "433ed949",
   "metadata": {},
   "outputs": [
    {
     "data": {
      "application/vnd.microsoft.datawrangler.viewer.v0+json": {
       "columns": [
        {
         "name": "weekday",
         "rawType": "object",
         "type": "string"
        },
        {
         "name": "rides",
         "rawType": "float64",
         "type": "float"
        }
       ],
       "ref": "b220ac2b-5ea5-4b60-9257-4c6292398f17",
       "rows": [
        [
         "Friday",
         "195.94230769230768"
        ],
        [
         "Monday",
         "196.83018867924528"
        ],
        [
         "Saturday",
         "188.8846153846154"
        ],
        [
         "Sunday",
         "203.1346153846154"
        ],
        [
         "Thursday",
         "206.40384615384616"
        ],
        [
         "Tuesday",
         "201.46153846153845"
        ],
        [
         "Wednesday",
         "210.57692307692307"
        ]
       ],
       "shape": {
        "columns": 1,
        "rows": 7
       }
      },
      "text/html": [
       "<div>\n",
       "<style scoped>\n",
       "    .dataframe tbody tr th:only-of-type {\n",
       "        vertical-align: middle;\n",
       "    }\n",
       "\n",
       "    .dataframe tbody tr th {\n",
       "        vertical-align: top;\n",
       "    }\n",
       "\n",
       "    .dataframe thead th {\n",
       "        text-align: right;\n",
       "    }\n",
       "</style>\n",
       "<table border=\"1\" class=\"dataframe\">\n",
       "  <thead>\n",
       "    <tr style=\"text-align: right;\">\n",
       "      <th></th>\n",
       "      <th>rides</th>\n",
       "    </tr>\n",
       "    <tr>\n",
       "      <th>weekday</th>\n",
       "      <th></th>\n",
       "    </tr>\n",
       "  </thead>\n",
       "  <tbody>\n",
       "    <tr>\n",
       "      <th>Friday</th>\n",
       "      <td>195.942308</td>\n",
       "    </tr>\n",
       "    <tr>\n",
       "      <th>Monday</th>\n",
       "      <td>196.830189</td>\n",
       "    </tr>\n",
       "    <tr>\n",
       "      <th>Saturday</th>\n",
       "      <td>188.884615</td>\n",
       "    </tr>\n",
       "    <tr>\n",
       "      <th>Sunday</th>\n",
       "      <td>203.134615</td>\n",
       "    </tr>\n",
       "    <tr>\n",
       "      <th>Thursday</th>\n",
       "      <td>206.403846</td>\n",
       "    </tr>\n",
       "    <tr>\n",
       "      <th>Tuesday</th>\n",
       "      <td>201.461538</td>\n",
       "    </tr>\n",
       "    <tr>\n",
       "      <th>Wednesday</th>\n",
       "      <td>210.576923</td>\n",
       "    </tr>\n",
       "  </tbody>\n",
       "</table>\n",
       "</div>"
      ],
      "text/plain": [
       "                rides\n",
       "weekday              \n",
       "Friday     195.942308\n",
       "Monday     196.830189\n",
       "Saturday   188.884615\n",
       "Sunday     203.134615\n",
       "Thursday   206.403846\n",
       "Tuesday    201.461538\n",
       "Wednesday  210.576923"
      ]
     },
     "execution_count": 39,
     "metadata": {},
     "output_type": "execute_result"
    }
   ],
   "source": [
    "# 👉 # TODO: compute and print mean rides per weekday\n",
    "df.pivot_table(index='weekday', values='rides', aggfunc='mean')"
   ]
  },
  {
   "cell_type": "markdown",
   "id": "9a3f0b1a",
   "metadata": {},
   "source": [
    "## 3 · Matplotlib 📈\n",
    "Quick-start notes\n",
    "Workhorse: pyplot interface (import matplotlib.pyplot as plt)\n",
    "\n",
    "Figure & axes: fig, ax = plt.subplots()\n",
    "\n",
    "Common plots: plot, scatter, hist, imshow\n",
    "\n",
    "Display inline in Jupyter with %matplotlib inline or %matplotlib notebook"
   ]
  },
  {
   "cell_type": "markdown",
   "id": "69819e4e",
   "metadata": {},
   "source": [
    "### Task 5 — Scatter plot"
   ]
  },
  {
   "cell_type": "code",
   "execution_count": 44,
   "id": "4662d849",
   "metadata": {},
   "outputs": [
    {
     "data": {
      "text/plain": [
       "<matplotlib.collections.PathCollection at 0x1197a2850>"
      ]
     },
     "execution_count": 44,
     "metadata": {},
     "output_type": "execute_result"
    },
    {
     "data": {
      "image/png": "[encoded data removed]",
      "text/plain": [
       "<Figure size 640x480 with 1 Axes>"
      ]
     },
     "metadata": {},
     "output_type": "display_data"
    }
   ],
   "source": [
    "# 👉 # TODO: scatter-plot temperature (x) vs rides (y) from df\n",
    "import matplotlib.pyplot as plt\n",
    "# plt.figure(figsize=(8,6))\n",
    "plt.title('Tempreture vs Rides')\n",
    "plt.xlabel('Tempreture (Celcius)')\n",
    "plt.ylabel('Number of rides')\n",
    "plt.scatter(df['temp'], df['rides'], alpha=0.5)\n"
   ]
  },
  {
   "cell_type": "markdown",
   "id": "c4e3aa7f",
   "metadata": {},
   "source": [
    "### Task 6 — Show the figure\n",
    "\n"
   ]
  },
  {
   "cell_type": "code",
   "execution_count": 45,
   "id": "e84301a3",
   "metadata": {},
   "outputs": [],
   "source": [
    "# 👉 # TODO: call plt.show() so the plot appears\n",
    "plt.show()"
   ]
  }
 ],
 "metadata": {
  "kernelspec": {
   "display_name": ".venv",
   "language": "python",
   "name": "python3"
  },
  "language_info": {
   "codemirror_mode": {
    "name": "ipython",
    "version": 3
   },
   "file_extension": ".py",
   "mimetype": "text/x-python",
   "name": "python",
   "nbconvert_exporter": "python",
   "pygments_lexer": "ipython3",
   "version": "3.13.3"
  }
 },
 "nbformat": 4,
 "nbformat_minor": 5
}
